{
 "cells": [
  {
   "cell_type": "code",
   "execution_count": 1,
   "id": "a07a7495",
   "metadata": {},
   "outputs": [],
   "source": [
    "import numpy as np"
   ]
  },
  {
   "cell_type": "code",
   "execution_count": 26,
   "id": "b5807681",
   "metadata": {},
   "outputs": [],
   "source": [
    "X = np.array([[1, 2, 3], [4, 5, 6], [7, 8, 9], [10, 11, 12]])"
   ]
  },
  {
   "cell_type": "code",
   "execution_count": 27,
   "id": "60bd5e18",
   "metadata": {},
   "outputs": [
    {
     "data": {
      "text/plain": [
       "(4, 3)"
      ]
     },
     "execution_count": 27,
     "metadata": {},
     "output_type": "execute_result"
    }
   ],
   "source": [
    "X.shape"
   ]
  },
  {
   "cell_type": "code",
   "execution_count": 28,
   "id": "fbaf0fa5",
   "metadata": {},
   "outputs": [],
   "source": [
    "weights = np.array([[0.513], [0.221], [0.635]])"
   ]
  },
  {
   "cell_type": "code",
   "execution_count": 29,
   "id": "baddc9ad",
   "metadata": {},
   "outputs": [
    {
     "data": {
      "text/plain": [
       "(3, 1)"
      ]
     },
     "execution_count": 29,
     "metadata": {},
     "output_type": "execute_result"
    }
   ],
   "source": [
    "weights.shape"
   ]
  },
  {
   "cell_type": "code",
   "execution_count": 30,
   "id": "8c988b7a",
   "metadata": {},
   "outputs": [],
   "source": [
    "preds = np.matmul(X, weights)"
   ]
  },
  {
   "cell_type": "code",
   "execution_count": 31,
   "id": "0f285092",
   "metadata": {},
   "outputs": [
    {
     "data": {
      "text/plain": [
       "(4, 1)"
      ]
     },
     "execution_count": 31,
     "metadata": {},
     "output_type": "execute_result"
    }
   ],
   "source": [
    "preds.shape"
   ]
  },
  {
   "cell_type": "code",
   "execution_count": 32,
   "id": "5a1d8da2",
   "metadata": {},
   "outputs": [
    {
     "data": {
      "text/plain": [
       "array([[ 2.86 ],\n",
       "       [ 6.967],\n",
       "       [11.074],\n",
       "       [15.181]])"
      ]
     },
     "execution_count": 32,
     "metadata": {},
     "output_type": "execute_result"
    }
   ],
   "source": [
    "preds"
   ]
  },
  {
   "cell_type": "code",
   "execution_count": 34,
   "id": "a70ffce0",
   "metadata": {},
   "outputs": [
    {
     "data": {
      "text/plain": [
       "array([[ 2.86],\n",
       "       [ 6.97],\n",
       "       [11.07],\n",
       "       [15.18]])"
      ]
     },
     "execution_count": 34,
     "metadata": {},
     "output_type": "execute_result"
    }
   ],
   "source": [
    "np.round(preds, 2)"
   ]
  },
  {
   "cell_type": "code",
   "execution_count": 35,
   "id": "b29f85c6",
   "metadata": {},
   "outputs": [],
   "source": [
    "ground_truth = np.array([ [1], [6], [12], [15]])"
   ]
  },
  {
   "cell_type": "code",
   "execution_count": 37,
   "id": "ccb56a31",
   "metadata": {},
   "outputs": [],
   "source": [
    "error_squared = np.square(preds - ground_truth)"
   ]
  },
  {
   "cell_type": "code",
   "execution_count": 42,
   "id": "ec635463",
   "metadata": {},
   "outputs": [
    {
     "data": {
      "text/plain": [
       "array([[3.4596  ],\n",
       "       [0.935089],\n",
       "       [0.857476],\n",
       "       [0.032761]])"
      ]
     },
     "execution_count": 42,
     "metadata": {},
     "output_type": "execute_result"
    }
   ],
   "source": [
    "error_squared"
   ]
  },
  {
   "cell_type": "code",
   "execution_count": 38,
   "id": "1d86006a",
   "metadata": {},
   "outputs": [],
   "source": [
    "error = np.mean(error_squared)"
   ]
  },
  {
   "cell_type": "code",
   "execution_count": 39,
   "id": "1dcdc4f3",
   "metadata": {},
   "outputs": [
    {
     "data": {
      "text/plain": [
       "1.3212315000000001"
      ]
     },
     "execution_count": 39,
     "metadata": {},
     "output_type": "execute_result"
    }
   ],
   "source": [
    "error"
   ]
  },
  {
   "cell_type": "code",
   "execution_count": 41,
   "id": "b192cf51",
   "metadata": {},
   "outputs": [
    {
     "data": {
      "text/plain": [
       "1.32123"
      ]
     },
     "execution_count": 41,
     "metadata": {},
     "output_type": "execute_result"
    }
   ],
   "source": [
    "np.round(error, 5)"
   ]
  },
  {
   "cell_type": "code",
   "execution_count": 43,
   "id": "f3c8fe8b",
   "metadata": {},
   "outputs": [],
   "source": [
    "import numpy as np\n",
    "from numpy.typing import NDArray\n",
    "\n",
    "\n",
    "# Helpful functions:\n",
    "# https://numpy.org/doc/stable/reference/generated/numpy.matmul.html\n",
    "# https://numpy.org/doc/stable/reference/generated/numpy.mean.html\n",
    "# https://numpy.org/doc/stable/reference/generated/numpy.square.html\n",
    "\n",
    "class Solution:\n",
    "    \n",
    "    def get_model_prediction(self, X: NDArray[np.float64], weights: NDArray[np.float64]) -> NDArray[np.float64]:\n",
    "        # X is an Nx3 NumPy array\n",
    "        # weights is a 3x1 NumPy array\n",
    "        # HINT: np.matmul() will be useful\n",
    "        # return np.round(your_answer, 5)\n",
    "        preds = np.matmul(X, weights)\n",
    "        return np.round(preds, 5)\n",
    "\n",
    "\n",
    "    def get_error(self, model_prediction: NDArray[np.float64], ground_truth: NDArray[np.float64]) -> float:\n",
    "        # model_prediction is an Nx1 NumPy array\n",
    "        # ground_truth is an Nx1 NumPy array\n",
    "        # HINT: np.mean(), np.square() will be useful\n",
    "        # return round(your_answer, 5)\n",
    "        error_squared = np.square(model_prediction - ground_truth)\n",
    "        error = np.mean(error_squared)\n",
    "        return np.round(error, 5)"
   ]
  },
  {
   "cell_type": "code",
   "execution_count": 44,
   "id": "149fffd6",
   "metadata": {},
   "outputs": [],
   "source": [
    "class Solution:\n",
    "    def get_derivative(self, model_prediction: NDArray[np.float64], ground_truth: NDArray[np.float64], N: int, X: NDArray[np.float64], desired_weight: int) -> float:\n",
    "        # note that N is just len(X)\n",
    "        return -2 * np.dot(ground_truth - model_prediction, X[:, desired_weight]) / N\n",
    "\n",
    "    def get_model_prediction(self, X: NDArray[np.float64], weights: NDArray[np.float64]) -> NDArray[np.float64]:\n",
    "        return np.squeeze(np.matmul(X, weights))\n",
    "\n",
    "    learning_rate = 0.01\n",
    "\n",
    "    def train_model(\n",
    "        self, \n",
    "        X: NDArray[np.float64], \n",
    "        Y: NDArray[np.float64], \n",
    "        num_iterations: int, \n",
    "        initial_weights: NDArray[np.float64]\n",
    "    ) -> NDArray[np.float64]:\n",
    "\n",
    "        # you will need to call get_derivative() for each weight\n",
    "        # and update each one separately based on the learning rate!\n",
    "        # return np.round(your_answer, 5)\n",
    "        for num_iter in range(num_iterations):\n",
    "            # w = w - l.r*w_derivative\n",
    "            preds = self.get_model_prediction(X, initial_weights)\n",
    "            for w_idx, w in enumerate(initial_weights):\n",
    "                derivative_w = self.get_derivative(preds, Y, len(X), X, w_idx)\n",
    "                initial_weights[w_idx] = w - Solution.learning_rate*derivative_w\n",
    "\n",
    "        return np.round(initial_weights,  5)"
   ]
  },
  {
   "cell_type": "code",
   "execution_count": null,
   "id": "c8a5e831",
   "metadata": {},
   "outputs": [],
   "source": []
  }
 ],
 "metadata": {
  "kernelspec": {
   "display_name": "Python 3 (ipykernel)",
   "language": "python",
   "name": "python3"
  },
  "language_info": {
   "codemirror_mode": {
    "name": "ipython",
    "version": 3
   },
   "file_extension": ".py",
   "mimetype": "text/x-python",
   "name": "python",
   "nbconvert_exporter": "python",
   "pygments_lexer": "ipython3",
   "version": "3.9.12"
  }
 },
 "nbformat": 4,
 "nbformat_minor": 5
}
